{
 "cells": [
  {
   "cell_type": "markdown",
   "source": [
    "# Working with Design Reviews\n",
    "\n",
    "This example shows how you can work with Design Reviews on AllSpice Hub using py-allspice."
   ],
   "metadata": {
    "collapsed": false
   }
  },
  {
   "cell_type": "markdown",
   "source": [
    "First, let's begin with the usual setup:"
   ],
   "metadata": {
    "collapsed": false
   }
  },
  {
   "cell_type": "code",
   "execution_count": null,
   "outputs": [],
   "source": [
    "from allspice import AllSpice, Repository, DesignReview\n",
    "\n",
    "allspice_client = AllSpice(token_text=\"<YOUR TOKEN HERE>\")"
   ],
   "metadata": {
    "collapsed": false
   }
  },
  {
   "cell_type": "markdown",
   "source": [
    "## Creating, Fetching and Editing Design Reviews\n",
    "\n",
    "Design Reviews are made on repositories, so let's start with getting one."
   ],
   "metadata": {
    "collapsed": false
   }
  },
  {
   "cell_type": "code",
   "execution_count": null,
   "outputs": [],
   "source": [
    "# You can change the strings here to fit your organization/user and repository name.\n",
    "repo = Repository.request(allspice_client, \"myorg\", \"amazingpcb\")"
   ],
   "metadata": {
    "collapsed": false
   }
  },
  {
   "cell_type": "markdown",
   "source": [
    "To create a design review, you need to know the \"base\" and \"head\" branches. The \"base\" branch is\n",
    "the branch *to which* you want to merge. Typically, this will be the `main` branch. The \"head\"\n",
    "branch is the branch *from which* you are merging. This can be a feature branch, such as\n",
    "`add-pcblib`."
   ],
   "metadata": {
    "collapsed": false
   }
  },
  {
   "cell_type": "code",
   "execution_count": null,
   "outputs": [],
   "source": [
    "# Create a Design Review\n",
    "\n",
    "dr = repo.create_design_review(\n",
    "    title=\"Add PCB Library\",\n",
    "    head=\"add-pcblib\",\n",
    "    base=\"main\",\n",
    ")\n",
    "\n",
    "print(f\"New Design Review created: #{dr.number} - {dr.title}.\")\n"
   ],
   "metadata": {
    "collapsed": false
   }
  },
  {
   "cell_type": "markdown",
   "source": [
    "There are other options you can use to conveniently assign users or set a due date or milestone."
   ],
   "metadata": {
    "collapsed": false
   }
  },
  {
   "cell_type": "code",
   "execution_count": null,
   "outputs": [],
   "source": [
    "import datetime\n",
    "\n",
    "dr = repo.create_design_review(\n",
    "    title=\"Add PCB Library\",\n",
    "    head=\"add-pcblib\",\n",
    "    base=\"main\",\n",
    "    assignees={\"shrik450\"},\n",
    "    body=\"This DR adds a pcblib to our awesome PCB!\",\n",
    "    # 7 days from now\n",
    "    due_date=datetime.datetime.now() + datetime.timedelta(days=7),\n",
    "    milestone=\"1\",\n",
    ")\n",
    "\n",
    "print(f\"New Design Review created: #{dr.number} - {dr.title}.\")\n",
    "print(dr.body)\n",
    "print(f\"Assigned to {dr.assignees}, with due date {dr.due_date}.\")"
   ],
   "metadata": {
    "collapsed": false
   }
  },
  {
   "cell_type": "markdown",
   "source": [
    "All of these parameters are optional. Only the `title`, `base` and `head` params are required."
   ],
   "metadata": {
    "collapsed": false
   }
  },
  {
   "cell_type": "markdown",
   "source": [
    "You can also get all existing Design Reviews on a repository:"
   ],
   "metadata": {
    "collapsed": false
   }
  },
  {
   "cell_type": "code",
   "execution_count": null,
   "outputs": [],
   "source": [
    "drs = repo.get_design_reviews()\n",
    "\n",
    "for dr in drs:\n",
    "    print(f\"#{dr.number} - {dr.title}.\")"
   ],
   "metadata": {
    "collapsed": false
   }
  },
  {
   "cell_type": "markdown",
   "source": [
    "This allows you to filter the DRs, too:"
   ],
   "metadata": {
    "collapsed": false
   }
  },
  {
   "cell_type": "code",
   "execution_count": null,
   "outputs": [],
   "source": [
    "drs = repo.get_design_reviews(state=\"open\", milestone=\"1\", labels=\"important\")"
   ],
   "metadata": {
    "collapsed": false
   }
  },
  {
   "cell_type": "markdown",
   "source": [
    "Each filter is optional, so you can pick which ones you want.\n",
    "\n",
    "You can also get an individual DR if you know its number:"
   ],
   "metadata": {
    "collapsed": false
   }
  },
  {
   "cell_type": "code",
   "execution_count": null,
   "outputs": [],
   "source": [
    "dr = DesignReview.request(allspice_client, \"myorg\", \"amazingpcb\", \"3\")"
   ],
   "metadata": {
    "collapsed": false
   }
  },
  {
   "cell_type": "markdown",
   "source": [
    "To edit a DR, simply change its fields and call `commit()`:"
   ],
   "metadata": {
    "collapsed": false
   }
  },
  {
   "cell_type": "code",
   "execution_count": null,
   "outputs": [],
   "source": [
    "dr.title = \"Add Amazing PCB Library\"\n",
    "dr.body = \"This DR adds an *amazing* pcblib to our awesome PCB!\"\n",
    "dr.commit()"
   ],
   "metadata": {
    "collapsed": false
   }
  },
  {
   "cell_type": "markdown",
   "source": [
    "Note that not all fields of the DR can be changed. This is the current list:\n",
    "\n",
    "- allow_maintainer_edits\n",
    "- assignee\n",
    "- assignees\n",
    "- base\n",
    "- body\n",
    "- due_date\n",
    "- milestone\n",
    "- state\n",
    "- title\n",
    "\n",
    "This list may change, so you can refer to https://hub.allspice.io/api/swagger#/repository/repoEditPullRequest\n",
    "for an always up-to-date list.\n",
    "\n",
    "DRs can't be deleted via py-allspice, but you can set their state to closed."
   ],
   "metadata": {
    "collapsed": false
   }
  },
  {
   "cell_type": "markdown",
   "source": [
    "## Fetching and Adding Comments from/to DRs\n",
    "\n",
    "DRs can have comments, just like issues. In this section, comments refer to top-level comments that\n",
    "appear in the \"Conversation\" tab, and are not tied to a specific review."
   ],
   "metadata": {
    "collapsed": false
   }
  },
  {
   "cell_type": "code",
   "execution_count": null,
   "outputs": [],
   "source": [
    "# This returns all comments\n",
    "comments = dr.get_comments()\n",
    "\n",
    "for comment in comments:\n",
    "    print(f\"Comment by {comment.user.username}:\\n{comment.body}\")"
   ],
   "metadata": {
    "collapsed": false
   }
  },
  {
   "cell_type": "markdown",
   "source": [
    "You can add a comment to the DR:"
   ],
   "metadata": {
    "collapsed": false
   }
  },
  {
   "cell_type": "code",
   "execution_count": null,
   "outputs": [],
   "source": [
    "comment = dr.create_comment(\"This PCB Lib is pretty awesome!\")\n",
    "\n",
    "print(f\"Comment by {comment.user.username}:\\n{comment.body}\")"
   ],
   "metadata": {
    "collapsed": false
   }
  },
  {
   "cell_type": "markdown",
   "source": [
    "# Putting Everything Together\n",
    "\n",
    "Using the concepts in this guide, here's a small script that gets all the DRs on a repo, checks if\n",
    "any of them don't have an assignee, and makes a comment about it:"
   ],
   "metadata": {
    "collapsed": false
   }
  },
  {
   "cell_type": "code",
   "execution_count": null,
   "outputs": [],
   "source": [
    "repo_owner = \"myorg\"\n",
    "repo_name = \"amazingpcb\"\n",
    "\n",
    "repo = Repository.request(allspice_client, repo_owner, repo_name)\n",
    "\n",
    "drs = repo.get_design_reviews(state=DesignReview.OPEN)\n",
    "\n",
    "for dr in drs:\n",
    "    if dr.assignees is None or len(dr.assignees) == 0:\n",
    "        dr.create_comment(f\"\"\"\n",
    "        This design review has no assignee!\n",
    "\n",
    "        @{dr.user.username} - please assign this DR to an owner, or assign it to yourself.\n",
    "        \"\"\")\n"
   ],
   "metadata": {
    "collapsed": false
   }
  }
 ],
 "metadata": {
  "kernelspec": {
   "display_name": "Python 3",
   "language": "python",
   "name": "python3"
  },
  "language_info": {
   "codemirror_mode": {
    "name": "ipython",
    "version": 2
   },
   "file_extension": ".py",
   "mimetype": "text/x-python",
   "name": "python",
   "nbconvert_exporter": "python",
   "pygments_lexer": "ipython2",
   "version": "2.7.6"
  }
 },
 "nbformat": 4,
 "nbformat_minor": 0
}
