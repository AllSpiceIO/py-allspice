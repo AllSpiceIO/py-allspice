{
 "cells": [
  {
   "cell_type": "markdown",
   "source": [
    "# Back up an AllSpice Hub Repo\n",
    "\n",
    "This example shows how to back up an AllSpice Hub repo as a zip file to a local directory. You can\n",
    "then store the tar file to some other location, such as a cloud storage bucket.\n",
    "\n",
    "This example only works with py-allspice v2.1.0 or later.\n",
    "\n",
    "First, start by filling out the owner and name of the repo you want to back up here."
   ],
   "metadata": {
    "collapsed": false
   }
  },
  {
   "cell_type": "code",
   "execution_count": null,
   "outputs": [],
   "source": [
    "# For example, if your repo is \"test/test\", then set these variables like this:\n",
    "repo_owner = \"test\"\n",
    "repo_name = \"test\""
   ],
   "metadata": {
    "collapsed": false
   }
  },
  {
   "cell_type": "code",
   "execution_count": null,
   "outputs": [],
   "source": [
    "from allspice import AllSpice, Repository\n",
    "\n",
    "# Put your AllSpice Hub token here.\n",
    "allspice_client = AllSpice(token_text=\"<YOUR TOKEN HERE>\")\n",
    "\n",
    "# If you are self-hosting AllSpice Hub, you can input your url too:\n",
    "\n",
    "# allspice_client = AllSpice(allspice_hub_url=\"<YOUR URL HERE>\", token_text=\"<YOUR TOKEN HERE>\")"
   ],
   "metadata": {
    "collapsed": false
   }
  },
  {
   "cell_type": "code",
   "execution_count": null,
   "outputs": [],
   "source": [
    "repo = Repository.request(allspice_client, repo_owner, repo_name)\n",
    "\n",
    "with open(f\"{repo_owner}_{repo_name}.zip\", \"wb\") as f:\n",
    "    data = repo.get_archive()\n",
    "    f.write(data)"
   ],
   "metadata": {
    "collapsed": false
   }
  },
  {
   "cell_type": "markdown",
   "source": [
    "By default, this will fetch the `main` branch of your repo. If you want to change which branch or\n",
    "commit you back up, you can use the `ref` argument to `get_archive`, which can take:\n",
    "\n",
    "1. A branch name,\n",
    "2. A commit hash,\n",
    "3. A `Branch` or `Commit` object, which you can get from py-allspice."
   ],
   "metadata": {
    "collapsed": false
   }
  },
  {
   "cell_type": "code",
   "execution_count": null,
   "outputs": [],
   "source": [
    "with open(f\"{repo_owner}_{repo_name}.zip\", \"wb\") as f:\n",
    "    data = repo.get_archive(ref=\"my-branch\")\n",
    "    f.write(data)"
   ],
   "metadata": {
    "collapsed": false
   }
  },
  {
   "cell_type": "code",
   "execution_count": null,
   "outputs": [],
   "source": [
    "with open(f\"{repo_owner}_{repo_name}.zip\", \"wb\") as f:\n",
    "    data = repo.get_archive(ref=\"my-commit-hash\")\n",
    "    f.write(data)"
   ],
   "metadata": {
    "collapsed": false
   }
  },
  {
   "cell_type": "markdown",
   "source": [
    "If you want to back up all current branches, you can fetch them from the repo and back them up one\n",
    "by one:"
   ],
   "metadata": {
    "collapsed": false
   }
  },
  {
   "cell_type": "code",
   "execution_count": null,
   "outputs": [],
   "source": [
    "branches = repo.get_branches()\n",
    "for branch in branches:\n",
    "    with open(f\"{repo_owner}_{repo_name}_{branch.name}.zip\", \"wb\") as f:\n",
    "        data = repo.get_archive(ref=branch)\n",
    "        f.write(data)"
   ],
   "metadata": {
    "collapsed": false
   }
  },
  {
   "cell_type": "markdown",
   "source": [
    "And you can export as a tar.gz file instead of a zip file using the `archive_format` argument. This\n",
    "can be mixed with the `ref` argument, if you want."
   ],
   "metadata": {
    "collapsed": false
   }
  },
  {
   "cell_type": "code",
   "execution_count": null,
   "outputs": [],
   "source": [
    "with open(f\"{repo_owner}_{repo_name}.tar.gz\", \"wb\") as f:\n",
    "    data = repo.get_archive(archive_format=Repository.ArchiveFormat.TAR)\n",
    "    f.write(data)"
   ],
   "metadata": {
    "collapsed": false
   }
  },
  {
   "cell_type": "markdown",
   "source": [
    "Once you have the backed up file, you might want to upload it to a cloud storage bucket. Here's an\n",
    "example of how to do that with e.g. S3:"
   ],
   "metadata": {
    "collapsed": false
   }
  },
  {
   "cell_type": "code",
   "execution_count": null,
   "outputs": [],
   "source": [
    "import boto3\n",
    "\n",
    "s3 = boto3.client(\"s3\")\n",
    "s3.upload_file(\n",
    "    f\"{repo_owner}_{repo_name}.zip\",\n",
    "    \"<YOUR BUCKET NAME HERE>\",\n",
    "    f\"{repo_owner}_{repo_name}.zip\",\n",
    ")\n"
   ],
   "metadata": {
    "collapsed": false
   }
  }
 ],
 "metadata": {
  "kernelspec": {
   "display_name": "Python 3",
   "language": "python",
   "name": "python3"
  },
  "language_info": {
   "codemirror_mode": {
    "name": "ipython",
    "version": 2
   },
   "file_extension": ".py",
   "mimetype": "text/x-python",
   "name": "python",
   "nbconvert_exporter": "python",
   "pygments_lexer": "ipython2",
   "version": "2.7.6"
  }
 },
 "nbformat": 4,
 "nbformat_minor": 0
}
