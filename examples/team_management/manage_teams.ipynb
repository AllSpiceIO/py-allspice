{
 "cells": [
  {
   "attachments": {},
   "cell_type": "markdown",
   "metadata": {},
   "source": [
    "This is a simple example script that showcases how you can manage your teams\n",
    "on AllSpice Hub with py-allspice. You shouldn't run this script directly, as it\n",
    "will certainly do things you don't want with your orgs and teams. Instead, use\n",
    "it as a reference when working on scripts that involve team management."
   ]
  },
  {
   "cell_type": "code",
   "execution_count": null,
   "metadata": {},
   "outputs": [],
   "source": [
    "# Imports\n",
    "\n",
    "from allspice import AllSpice"
   ]
  },
  {
   "cell_type": "code",
   "execution_count": null,
   "metadata": {},
   "outputs": [],
   "source": [
    "# Set up the client\n",
    "\n",
    "# Never hard code a token in your code! Use something like\n",
    "# os.environ.get(\"ALLSPICE_TOKEN\") instead.\n",
    "allspice_client = AllSpice(token_text=\"<your token here>\")\n",
    "\n",
    "print(allspice_client.get_user())"
   ]
  },
  {
   "attachments": {},
   "cell_type": "markdown",
   "metadata": {},
   "source": [
    "## Creating and Getting Teams\n",
    "\n",
    "Teams belong to an organisation, so we have to start with getting one."
   ]
  },
  {
   "cell_type": "code",
   "execution_count": null,
   "metadata": {},
   "outputs": [],
   "source": [
    "# Currently, you can only get all orgs at once, so index from the list.\n",
    "org = allspice_client.get_orgs()[0]\n",
    "\n",
    "print(org)"
   ]
  },
  {
   "cell_type": "code",
   "execution_count": null,
   "metadata": {},
   "outputs": [],
   "source": [
    "my_team = allspice_client.create_team(\n",
    "    org=org,\n",
    "    # Team names can only contain alphanumeric characters, dashes and dots.\n",
    "    name=\"My-New-Team\",\n",
    "    description=\"This is my team\",\n",
    "    permission=\"read\",\n",
    "    can_create_org_repo=False,\n",
    "    includes_all_repositories=True,\n",
    "    # Either\n",
    "    units=(\n",
    "        \"repo.code\",\n",
    "        \"repo.issues\",\n",
    "        \"repo.ext_issues\",\n",
    "        \"repo.wiki\",\n",
    "    ),\n",
    "    # Or\n",
    "    units_map={\n",
    "        \"repo.code\": \"read\",\n",
    "        \"repo.issues\": \"write\",\n",
    "        \"repo.ext_issues\": \"admin\",\n",
    "        \"repo.wiki\": \"none\",\n",
    "    }\n",
    ")\n",
    "\n",
    "print(my_team.id)"
   ]
  },
  {
   "attachments": {},
   "cell_type": "markdown",
   "metadata": {},
   "source": [
    "Note that you should use either `units` or `units_map` - if you call\n",
    "`create_team` with both, `units_map` will take precedence.\n",
    "\n",
    "You can also get teams from an org:"
   ]
  },
  {
   "cell_type": "code",
   "execution_count": null,
   "metadata": {},
   "outputs": [],
   "source": [
    "all_teams = org.get_teams()\n",
    "print(f\"There are {len(all_teams)} teams in this org.\")\n",
    "my_team = all_teams[0]\n",
    "print(my_team.name)\n",
    "\n",
    "# or\n",
    "\n",
    "# my_team = org.get_team(\"My Team\")\n",
    "# print(my_team)"
   ]
  },
  {
   "attachments": {},
   "cell_type": "markdown",
   "metadata": {},
   "source": [
    "All of these methods return a `Team` object, which includes the properties of a\n",
    "team:\n",
    "\n",
    "```\n",
    "can_create_org_repo\n",
    "description\n",
    "id\n",
    "includes_all_repositories\n",
    "name\n",
    "organization\n",
    "permission\n",
    "units\n",
    "units_map\n",
    "```\n",
    "\n",
    "This list of properties may be out of date - for the latest information, you can\n",
    "check http://hub.allspice.io/api/swagger#/organization/orgCreateTeam."
   ]
  },
  {
   "attachments": {},
   "cell_type": "markdown",
   "metadata": {},
   "source": [
    "## Editing Teams\n",
    "\n",
    "If you want to edit a team, simply set its properties and call `commit()`."
   ]
  },
  {
   "cell_type": "code",
   "execution_count": null,
   "metadata": {},
   "outputs": [],
   "source": [
    "my_team.name = \"My-New-Team-Name\"\n",
    "my_team.description = \"This is my new team description\"\n",
    "my_team.commit()\n",
    "\n",
    "# Refetch the team to ensure the change went through\n",
    "my_team = org.get_teams()[0]\n",
    "print(my_team.name)"
   ]
  },
  {
   "attachments": {},
   "cell_type": "markdown",
   "metadata": {},
   "source": [
    "## Managing Members\n",
    "\n",
    "You can see the members of a team with `get_members`, add a member with\n",
    "`add_user` and remove a member with `remove_team_member`."
   ]
  },
  {
   "cell_type": "code",
   "execution_count": null,
   "metadata": {},
   "outputs": [],
   "source": [
    "# Get members\n",
    "\n",
    "members = my_team.get_members()\n",
    "# This is a list of User objects.\n",
    "print(f\"Team {my_team.name} has {len(members)} members\")\n",
    "first_member = members[0]\n",
    "print(f\"{first_member.username=}\")\n",
    "\n",
    "# Remove a member\n",
    "# This takes a username, not a User object.\n",
    "my_team.remove_team_member(first_member.username)\n",
    "\n",
    "new_members = my_team.get_members()\n",
    "print(f\"Team {my_team.name} has {len(new_members)} members\")\n",
    "\n",
    "# Add a member\n",
    "my_team.add_user(first_member)\n",
    "new_members = my_team.get_members()\n",
    "print(f\"Team {my_team.name} has {len(new_members)} members\")\n"
   ]
  },
  {
   "attachments": {},
   "cell_type": "markdown",
   "metadata": {},
   "source": [
    "# Deleting teams\n",
    "\n",
    "Finally, deleting a team is as simple as calling delete() on it."
   ]
  },
  {
   "cell_type": "code",
   "execution_count": null,
   "metadata": {},
   "outputs": [],
   "source": [
    "my_team.delete()\n",
    "\n",
    "# Get all teams in an org\n",
    "teams = org.get_teams()\n",
    "print(f\"Org {org.name} has {len(teams)} teams\")"
   ]
  }
 ],
 "metadata": {
  "kernelspec": {
   "display_name": ".venv",
   "language": "python",
   "name": "python3"
  },
  "language_info": {
   "codemirror_mode": {
    "name": "ipython",
    "version": 3
   },
   "file_extension": ".py",
   "mimetype": "text/x-python",
   "name": "python",
   "nbconvert_exporter": "python",
   "pygments_lexer": "ipython3",
   "version": "3.10.6"
  },
  "orig_nbformat": 4
 },
 "nbformat": 4,
 "nbformat_minor": 2
}
