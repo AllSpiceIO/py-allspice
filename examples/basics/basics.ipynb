{
 "cells": [
  {
   "cell_type": "markdown",
   "metadata": {
    "collapsed": false
   },
   "source": [
    "# Basics\n",
    "\n",
    "This example will walk you through getting started with py-allspice and the basics of using it."
   ]
  },
  {
   "cell_type": "markdown",
   "metadata": {
    "collapsed": false
   },
   "source": [
    "## Installation\n",
    "\n",
    "First, you'll need to install py-allspice. You can do that by running this cell:"
   ]
  },
  {
   "cell_type": "code",
   "execution_count": null,
   "metadata": {
    "collapsed": false
   },
   "outputs": [],
   "source": [
    "# This is a magic cell, and only runs in Jupyter notebooks! Don't copy this into a .py file.\n",
    "%pip install py-allspice"
   ]
  },
  {
   "cell_type": "markdown",
   "metadata": {
    "collapsed": false
   },
   "source": [
    "Or alternatively, you can install it from the command line using:\n",
    "\n",
    "```bash\n",
    "pip install py-allspice\n",
    "```"
   ]
  },
  {
   "cell_type": "markdown",
   "metadata": {
    "collapsed": false
   },
   "source": [
    "## Creating a client\n",
    "\n",
    "All operations in py-allspice require an AllSpice client object. Before you can make a client, you\n",
    "need an AllSpice Hub Auth Token. [See this guide for more information.](https://allspice.document360.io/docs/how-to-create-an-allspice-authentication-application-access-token)\n",
    "\n",
    "Once you have a token, you can make a client like this:"
   ]
  },
  {
   "cell_type": "code",
   "execution_count": null,
   "metadata": {
    "collapsed": false
   },
   "outputs": [],
   "source": [
    "from allspice import AllSpice\n",
    "\n",
    "# Replace the text in the quotes with your token.\n",
    "client = AllSpice(token_text=\"<YOUR TOKEN HERE>\")"
   ]
  },
  {
   "cell_type": "markdown",
   "metadata": {
    "collapsed": false
   },
   "source": [
    "There are a few other options you can pass to the client constructor. For example, you can specify\n",
    "the URL of the AllSpice Hub you want to connect to,"
   ]
  },
  {
   "cell_type": "code",
   "execution_count": null,
   "metadata": {
    "collapsed": false
   },
   "outputs": [],
   "source": [
    "client = AllSpice(\n",
    "    allspice_hub_url=\"https://my.selfhosted.example\",\n",
    "    auth=(\"username\", \"password\"),\n",
    "    log_level=\"DEBUG\",\n",
    ")"
   ]
  },
  {
   "cell_type": "markdown",
   "metadata": {
    "collapsed": false
   },
   "source": [
    "Note that if you specify a username and password, you shouldn't specify a token. In general, prefer\n",
    "using tokens over usernames and passwords, as they are more secure and can be revoked at any time.\n",
    "If you are using a token in a python script that is checked into a repository, you should use an\n",
    "environment variable to store the token, and then read it from the environment in your script:"
   ]
  },
  {
   "cell_type": "code",
   "execution_count": null,
   "metadata": {
    "collapsed": false
   },
   "outputs": [],
   "source": [
    "import os\n",
    "\n",
    "client = AllSpice(token_text=os.environ[\"ALLSPICE_TOKEN\"])"
   ]
  },
  {
   "cell_type": "markdown",
   "metadata": {
    "collapsed": false
   },
   "source": [
    "In this example, we're using the `ALLSPICE_TOKEN` environment variable. You can use any environment\n",
    "variable you want, as long as you set it to the token text."
   ]
  },
  {
   "cell_type": "markdown",
   "metadata": {
    "collapsed": false
   },
   "source": [
    "## Getting Objects from AllSpice\n",
    "\n",
    "AllSpice has a number of different concepts, such as \"Organizations\", \"Repositories\", \"Issues\",\n",
    "\"Design Reviews\" and so on. Each of these concepts has a corresponding object in py-allspice, and\n",
    "you can perform operations on these objects to interact with AllSpice. For example, you can get all\n",
    "the organizations you have access to like this:"
   ]
  },
  {
   "cell_type": "code",
   "execution_count": null,
   "metadata": {
    "collapsed": false
   },
   "outputs": [],
   "source": [
    "organizations = client.get_orgs()\n",
    "\n",
    "for org in organizations:\n",
    "    print(org.username)"
   ]
  },
  {
   "cell_type": "markdown",
   "metadata": {
    "collapsed": false
   },
   "source": [
    "Typically, you want to get a single object you know of, like a repository. Here is how you can get\n",
    "a repository by its name:"
   ]
  },
  {
   "cell_type": "code",
   "execution_count": null,
   "metadata": {
    "collapsed": false
   },
   "outputs": [],
   "source": [
    "from allspice import Repository\n",
    "\n",
    "repo = Repository.request(client, \"my-org\", \"my-repo\")\n",
    "\n",
    "print(repo.name)"
   ]
  },
  {
   "cell_type": "markdown",
   "metadata": {
    "collapsed": false
   },
   "source": [
    "Almost every object has a similar `request` method that you can use to get it, such as getting an\n",
    "issue by its number:"
   ]
  },
  {
   "cell_type": "code",
   "execution_count": null,
   "metadata": {
    "collapsed": false
   },
   "outputs": [],
   "source": [
    "from allspice import Issue\n",
    "\n",
    "issue = Issue.request(client, \"my-org\", \"my-repo\", \"1\")\n",
    "\n",
    "print(f\"#{issue.number}: {issue.title}\")"
   ]
  },
  {
   "cell_type": "markdown",
   "metadata": {
    "collapsed": false
   },
   "source": [
    "Here is a list of all the objects in py-allspice:\n",
    "\n",
    "- User\n",
    "- Organization\n",
    "- Team\n",
    "- Repository\n",
    "- Branch\n",
    "- NotFoundException\n",
    "- AlreadyExistsException\n",
    "- Issue\n",
    "- Milestone\n",
    "- Commit\n",
    "- Comment\n",
    "- Content\n",
    "- DesignReview\n",
    "\n",
    "To explore how you can get these objects, you can use the `help` function in python:"
   ]
  },
  {
   "cell_type": "code",
   "execution_count": null,
   "metadata": {
    "collapsed": false
   },
   "outputs": [],
   "source": [
    "from allspice import User\n",
    "\n",
    "help(User.request)"
   ]
  },
  {
   "cell_type": "markdown",
   "metadata": {
    "collapsed": false
   },
   "source": [
    "## Working with Objects\n",
    "\n",
    "Once you have an object, you can access its properties to get information about it. For example, you\n",
    "can get the name of a repository:"
   ]
  },
  {
   "cell_type": "code",
   "execution_count": null,
   "metadata": {
    "collapsed": false
   },
   "outputs": [],
   "source": [
    "print(repo.name)"
   ]
  },
  {
   "cell_type": "markdown",
   "metadata": {
    "collapsed": false
   },
   "source": [
    "You can get a list of all properties and methods on an object by using the `dir` function in python:"
   ]
  },
  {
   "cell_type": "code",
   "execution_count": null,
   "metadata": {
    "collapsed": false
   },
   "outputs": [],
   "source": [
    "dir(repo)"
   ]
  },
  {
   "cell_type": "markdown",
   "metadata": {
    "collapsed": false
   },
   "source": [
    "You can also perform operations on objects. For example, you can get all the issues in a repository:"
   ]
  },
  {
   "cell_type": "code",
   "execution_count": null,
   "metadata": {
    "collapsed": false
   },
   "outputs": [],
   "source": [
    "issues = repo.get_issues()\n",
    "\n",
    "for issue in issues:\n",
    "    print(f\"#{issue.number}: {issue.title}\")"
   ]
  },
  {
   "cell_type": "markdown",
   "metadata": {
    "collapsed": false
   },
   "source": [
    "Or create an issue:"
   ]
  },
  {
   "cell_type": "code",
   "execution_count": null,
   "metadata": {
    "collapsed": false
   },
   "outputs": [],
   "source": [
    "new_issue = repo.create_issue(title=\"My New Issue\", description=\"This is the body of my new issue.\")"
   ]
  },
  {
   "cell_type": "markdown",
   "metadata": {
    "collapsed": false
   },
   "source": [
    "## Editing and Deleting Objects\n",
    "\n",
    "Most types of objects can be edited and deleted. For editing, you can simply set the properties you\n",
    "want to change, and then call the `commit` method on the object:"
   ]
  },
  {
   "cell_type": "code",
   "execution_count": null,
   "metadata": {
    "collapsed": false
   },
   "outputs": [],
   "source": [
    "new_issue.title = \"My New Issue (Edited)\"\n",
    "new_issue.commit()\n",
    "\n",
    "new_issue_again = Issue.request(client, \"my-org\", \"my-repo\", new_issue.number)\n",
    "print(new_issue_again.title)"
   ]
  },
  {
   "cell_type": "markdown",
   "metadata": {
    "collapsed": false
   },
   "source": [
    "Not all properties can be edited. If there is a guide for editing a specific type of object, it will\n",
    "mention which properties can be edited.\n",
    "\n",
    "To delete an object, you can call the `delete` method on it:"
   ]
  },
  {
   "cell_type": "code",
   "execution_count": null,
   "metadata": {
    "collapsed": false
   },
   "outputs": [],
   "source": [
    "from allspice import NotFoundException\n",
    "\n",
    "new_issue.delete()\n",
    "\n",
    "try:\n",
    "    Issue.request(client, \"my-org\", \"my-repo\", new_issue.number)\n",
    "except NotFoundException:\n",
    "    print(\"Issue was deleted!\")"
   ]
  },
  {
   "cell_type": "markdown",
   "metadata": {
    "collapsed": false
   },
   "source": [
    "## Errors\n",
    "\n",
    "If an error occurs while performing an operation, py-allspice will raise an exception. For example,\n",
    "if you try to get an issue that doesn't exist, you will get a `NotFoundException`, as seen above.\n",
    "In general, the Error will be descriptive about what went wrong, and how you can fix it. One common\n",
    "error that might be confusing is a `NotFoundException` when trying to get an object that you know\n",
    "exists. This can happen if the API token you're using don't have access to the object. To fix this,\n",
    "double check that the user or token has access to the object.\n"
   ]
  }
 ],
 "metadata": {
  "kernelspec": {
   "display_name": "Python 3",
   "language": "python",
   "name": "python3"
  },
  "language_info": {
   "codemirror_mode": {
    "name": "ipython",
    "version": 2
   },
   "file_extension": ".py",
   "mimetype": "text/x-python",
   "name": "python",
   "nbconvert_exporter": "python",
   "pygments_lexer": "ipython2",
   "version": "2.7.6"
  }
 },
 "nbformat": 4,
 "nbformat_minor": 0
}
